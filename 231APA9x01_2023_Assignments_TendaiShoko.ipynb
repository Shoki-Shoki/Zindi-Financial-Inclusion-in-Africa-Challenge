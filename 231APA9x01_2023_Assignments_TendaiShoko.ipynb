{
 "cells": [
  {
   "cell_type": "markdown",
   "id": "e42f7010",
   "metadata": {
    "pycharm": {
     "name": "#%% md\n"
    },
    "id": "e42f7010"
   },
   "source": [
    "# Programming for Artificial Intelligence Assignments"
   ]
  },
  {
   "cell_type": "markdown",
   "source": [
    "\n",
    "Name: Tendai Shoko<br>\n",
    "Module Code: 231APA9X01 <br>\n",
    "Deadline (for all Assignments): 14/05/2023"
   ],
   "metadata": {
    "collapsed": false,
    "pycharm": {
     "name": "#%% md\n"
    }
   }
  },
  {
   "cell_type": "markdown",
   "source": [
    "## Assignment 1\n"
   ],
   "metadata": {
    "collapsed": false,
    "pycharm": {
     "name": "#%% md\n"
    }
   }
  },
  {
   "cell_type": "markdown",
   "source": [
    "(i) Write a Python code to implement a bubble sort algorithm (details concerning bubble sort can be found here: https://en.wikipedia.org/wiki/Bubble_sort).                                                         [5 Marks] <br>\n"
   ],
   "metadata": {
    "collapsed": false,
    "pycharm": {
     "name": "#%% md\n"
    }
   }
  },
  {
   "cell_type": "code",
   "execution_count": null,
   "outputs": [],
   "source": [
    "def bubble_sort(arr):\n",
    "    n = len(arr)\n",
    "    for i in range(n):\n",
    "        # The final i components have been sorted.\n",
    "        for j in range(0, n-i-1):\n",
    "            # the array's range from 0 to n-i-1.\n",
    "            # If the element discovered is greater than the following element, swap.\n",
    "            if arr[j] > arr[j+1]:\n",
    "                arr[j], arr[j+1] = arr[j+1], arr[j]\n"
   ],
   "metadata": {
    "collapsed": false,
    "pycharm": {
     "name": "#%%\n"
    }
   }
  },
  {
   "cell_type": "code",
   "execution_count": null,
   "outputs": [],
   "source": [
    "#How we apply the function bubble\n",
    "arr = [52, 13, 69, 9]\n",
    "bubble_sort(arr)\n",
    "print(\"The sorted array is:\", arr)"
   ],
   "metadata": {
    "collapsed": false,
    "pycharm": {
     "name": "#%%\n"
    }
   }
  },
  {
   "cell_type": "markdown",
   "source": [
    "(ii) Write a Python code which produces a Fibonacci sequence for the first 'n' numbers (details about Fibonacci sequence can be found here: https://en.wikipedia.org/wiki/Fibonacci_sequence). [5 Marks]"
   ],
   "metadata": {
    "collapsed": false,
    "pycharm": {
     "name": "#%% md\n"
    }
   }
  },
  {
   "cell_type": "code",
   "execution_count": null,
   "outputs": [],
   "source": [
    "def fibonacci(n):\n",
    "    #Start with the first two terms.\n",
    "    fibonacci_seq = [0, 1] \n",
    "    while len(fibonacci_seq) < n:\n",
    "        # To the series, add the total of the last two terms.\n",
    "        next_term = fibonacci_seq[-1] + fibonacci_seq[-2]\n",
    "        fibonacci_seq.append(next_term)\n",
    "    return fibonacci_seq\n",
    "\n"
   ],
   "metadata": {
    "collapsed": false,
    "pycharm": {
     "name": "#%%\n"
    }
   }
  },
  {
   "cell_type": "code",
   "execution_count": null,
   "outputs": [],
   "source": [
    "#How we apply the fibonacci suquence function\n",
    "n = 8\n",
    "fibonacci_seq = fibonacci(n)\n",
    "print(\"The Fibonacci sequence up to\", n, \"is:\", fibonacci_seq)"
   ],
   "metadata": {
    "collapsed": false,
    "pycharm": {
     "name": "#%%\n"
    }
   }
  },
  {
   "cell_type": "markdown",
   "source": [
    "(iii) Write a Python code which computes a factorial of any number, 'n' (details about the factorial can be found here: https://en.wikipedia.org/wiki/Factorial).                                                     [5 Marks] "
   ],
   "metadata": {
    "collapsed": false,
    "pycharm": {
     "name": "#%% md\n"
    }
   }
  },
  {
   "cell_type": "code",
   "execution_count": null,
   "outputs": [],
   "source": [
    "def factorial(n):\n",
    "    fact = 1\n",
    "    for i in range(1, n+1):\n",
    "        fact *= i\n",
    "    return fact\n",
    "\n"
   ],
   "metadata": {
    "collapsed": false,
    "pycharm": {
     "name": "#%%\n"
    }
   }
  },
  {
   "cell_type": "code",
   "execution_count": null,
   "outputs": [],
   "source": [
    "\n",
    "#How we apply the function after using the iterative method\n",
    "n = 25\n",
    "fact = factorial(n)\n",
    "print(\"The factorial of\", n, \"is:\", fact)\n"
   ],
   "metadata": {
    "collapsed": false,
    "pycharm": {
     "name": "#%%\n"
    }
   }
  },
  {
   "cell_type": "markdown",
   "source": [
    "## Assignment 2"
   ],
   "metadata": {
    "collapsed": false,
    "pycharm": {
     "name": "#%% md\n"
    }
   }
  },
  {
   "cell_type": "markdown",
   "source": [
    "(i) Write a function which checks whether an input character is a vowel or a consonant.             [5 Marks] <br>\n",
    "\n"
   ],
   "metadata": {
    "collapsed": false,
    "pycharm": {
     "name": "#%% md\n"
    }
   }
  },
  {
   "cell_type": "code",
   "execution_count": null,
   "outputs": [],
   "source": [
    "def check_vowel(char):\n",
    "    vowels = \"aeiouAEIOU\"\n",
    "    if char in vowels:\n",
    "        return \"The character \" + char + \" is a vowel.\"\n",
    "    else:\n",
    "        return \"The character \" + char + \" is a consonant.\"\n",
    "\n"
   ],
   "metadata": {
    "collapsed": false,
    "pycharm": {
     "name": "#%%\n"
    }
   }
  },
  {
   "cell_type": "code",
   "execution_count": null,
   "outputs": [],
   "source": [
    "#How we apply the function \n",
    "print(check_vowel('a'))   \n",
    "print(check_vowel('z'))   \n"
   ],
   "metadata": {
    "collapsed": false,
    "pycharm": {
     "name": "#%%\n"
    }
   }
  },
  {
   "cell_type": "markdown",
   "source": [
    "(ii) Write a function which checks whether a given word/number is a palindrome or not (details about a palindrome can be found here: https://en.wikipedia.org/wiki/Palindrome).                                       [10 Marks"
   ],
   "metadata": {
    "collapsed": false,
    "pycharm": {
     "name": "#%% md\n"
    }
   }
  },
  {
   "cell_type": "code",
   "execution_count": null,
   "outputs": [],
   "source": [
    "def is_palindrome(word):\n",
    "    # Convert the input to lowercase and remove non-alphanumeric characters\n",
    "    word = ''.join(e for e in word.lower() if e.isalnum())\n",
    "    # Check if the word is the same forwards and backwards\n",
    "    return word == word[::-1]  \n"
   ],
   "metadata": {
    "collapsed": false,
    "pycharm": {
     "name": "#%%\n"
    }
   }
  },
  {
   "cell_type": "code",
   "execution_count": null,
   "outputs": [],
   "source": [
    "# How we apply the function \n",
    "print(is_palindrome(\"racecar\"))  \n",
    "print(is_palindrome(\"hello\"))    \n",
    "print(is_palindrome(\"A man, a plan, a canal: Panama\"))   \n"
   ],
   "metadata": {
    "collapsed": false,
    "pycharm": {
     "name": "#%%\n"
    }
   }
  },
  {
   "cell_type": "markdown",
   "source": [
    "## Assignment 3"
   ],
   "metadata": {
    "collapsed": false,
    "pycharm": {
     "name": "#%% md\n"
    }
   }
  },
  {
   "cell_type": "markdown",
   "source": [
    "(i) Write a Python function which tests whether an input number is even or odd.                     [5 Marks] <br>\n",
    "\n",
    "Total Marks:                                                                                        [15 Marks]"
   ],
   "metadata": {
    "collapsed": false,
    "pycharm": {
     "name": "#%% md\n"
    }
   }
  },
  {
   "cell_type": "code",
   "execution_count": null,
   "outputs": [],
   "source": [
    "def is_even(num):\n",
    "    if num % 2 == 0:\n",
    "        return True\n",
    "    else:\n",
    "        return False\n",
    "\n",
    "def check_even_odd(n):\n",
    "    if is_even(n):\n",
    "        print(\"The number\", n, \"is even.\")\n",
    "    else:\n",
    "        print(\"The number\", n, \"is odd.\")\n"
   ],
   "metadata": {
    "collapsed": false,
    "pycharm": {
     "name": "#%%\n"
    }
   }
  },
  {
   "cell_type": "code",
   "execution_count": null,
   "outputs": [],
   "source": [
    "# How we apply the function \n",
    "check_even_odd(2)  \n",
    "check_even_odd(3)   \n",
    "check_even_odd(0)   \n"
   ],
   "metadata": {
    "collapsed": false,
    "pycharm": {
     "name": "#%%\n"
    }
   }
  },
  {
   "cell_type": "markdown",
   "source": [
    "(ii) Write a function which takes two numbers 'm' and 'n, and returns the output:\n",
    "- if m is a multiple of n, then output is m^3 (m * m * m)\n",
    "- if m is not a multiple of n, then the output is (mn)^2 [10 Marks]"
   ],
   "metadata": {
    "collapsed": false,
    "pycharm": {
     "name": "#%% md\n"
    }
   }
  },
  {
   "cell_type": "code",
   "execution_count": null,
   "outputs": [],
   "source": [
    "def calculate_output(m, n):\n",
    "    if m % n == 0:\n",
    "        result = m ** 3\n",
    "        print(f\"The result of the calculation is: {result}\")\n",
    "    else:\n",
    "        result = (m * n) ** 2\n",
    "        print(f\"The result of the calculation is: {result}\")\n",
    "    return result\n"
   ],
   "metadata": {
    "collapsed": false,
    "pycharm": {
     "name": "#%%\n"
    }
   }
  },
  {
   "cell_type": "code",
   "execution_count": null,
   "outputs": [],
   "source": [
    "#  How we apply the function \n",
    "print(calculate_output(6, 2))   \n",
    "print(calculate_output(4, 3))"
   ],
   "metadata": {
    "collapsed": false,
    "pycharm": {
     "name": "#%%\n"
    }
   }
  },
  {
   "cell_type": "markdown",
   "source": [
    "## Assignment 4 "
   ],
   "metadata": {
    "collapsed": false,
    "pycharm": {
     "name": "#%% md\n"
    }
   }
  },
  {
   "cell_type": "markdown",
   "source": [
    "Write a Python class  (class 'Calculator') which implements basic arithmetic of two numbers 'a' and 'b'. The 'Calculator' class should have the following methods: <br>\n",
    "    - Sum(a,b): returns a + b <br>\n",
    "    - Difference(a,b): returns a - b <br>\n",
    "    - Product(a,b): returns a * b <br>\n",
    "    - Division(a,b): returns a/b                                                                     [15 Marks] <br>\n",
    "Total Marks:                                                                                         [15 Marks]   "
   ],
   "metadata": {
    "collapsed": false,
    "pycharm": {
     "name": "#%% md\n"
    }
   }
  },
  {
   "cell_type": "code",
   "execution_count": null,
   "outputs": [],
   "source": [
    "class Calculator:\n",
    "    def Sum(self, a, b):\n",
    "        return a + b\n",
    "\n",
    "    def Difference(self, a, b):\n",
    "        return a - b\n",
    "\n",
    "    def Product(self, a, b):\n",
    "        return a * b\n",
    "\n",
    "    def Division(self, a, b):\n",
    "        if b == 0:\n",
    "            raise ValueError(\"Cannot divide by zero\")\n",
    "        else:\n",
    "            return a / b\n",
    "\n"
   ],
   "metadata": {
    "collapsed": false,
    "pycharm": {
     "name": "#%%\n"
    }
   }
  },
  {
   "cell_type": "code",
   "execution_count": null,
   "outputs": [],
   "source": [
    "# How to use the calculator\n",
    "calc = Calculator()\n",
    "print(\"The result of the calculation by Sum is:\", calc.Sum(10, 33))        \n",
    "print(\"The result of the calculation by Difference is:\", calc.Difference(5, 3))\n",
    "print(\"The result of the calculation by Product is:\", calc.Product(7, 8))\n",
    "print(\"The result of the calculation by Division is:\", calc.Division(8, 3))\n"
   ],
   "metadata": {
    "collapsed": false,
    "pycharm": {
     "name": "#%%\n"
    }
   }
  },
  {
   "cell_type": "code",
   "execution_count": null,
   "outputs": [],
   "source": [],
   "metadata": {
    "collapsed": false,
    "pycharm": {
     "name": "#%%\n"
    }
   }
  },
  {
   "cell_type": "code",
   "execution_count": null,
   "outputs": [],
   "source": [
    "# How to get an error where you  are dividing by zero \n",
    "\n",
    "print(\"The result of the calculation by Division is:\", calc.Division(8, 0))"
   ],
   "metadata": {
    "collapsed": false,
    "pycharm": {
     "name": "#%%\n"
    }
   }
  },
  {
   "cell_type": "code",
   "execution_count": null,
   "outputs": [],
   "source": [],
   "metadata": {
    "collapsed": false,
    "pycharm": {
     "name": "#%%\n"
    }
   }
  },
  {
   "cell_type": "code",
   "source": [
    "# How we apply the function \n",
    "print(is_palindrome(\"racecar\"))  \n",
    "print(is_palindrome(\"hello\"))    \n",
    "print(is_palindrome(\"A man, a plan, a canal: Panama\"))   \n"
   ],
   "metadata": {
    "colab": {
     "base_uri": "https://localhost:8080/"
    },
    "id": "lySUMg8j495B",
    "outputId": "675d282c-ac3c-45db-a582-8f10c6dbd304"
   },
   "id": "lySUMg8j495B",
   "execution_count": 48,
   "outputs": [
    {
     "output_type": "stream",
     "name": "stdout",
     "text": [
      "True\n",
      "False\n",
      "True\n"
     ]
    }
   ]
  },
  {
   "cell_type": "markdown",
   "id": "3e5c64e1",
   "metadata": {
    "pycharm": {
     "name": "#%% md\n"
    },
    "id": "3e5c64e1"
   },
   "source": [
    "## Assignment 3"
   ]
  },
  {
   "cell_type": "markdown",
   "id": "6cc8b6df",
   "metadata": {
    "pycharm": {
     "name": "#%% md\n"
    },
    "id": "6cc8b6df"
   },
   "source": [
    "(i) Write a Python function which tests whether an input number is even or odd.                     [5 Marks] <br>\n",
    "\n",
    "Total Marks:                                                                                        [15 Marks]"
   ]
  },
  {
   "cell_type": "code",
   "execution_count": 32,
   "id": "d3c887f0",
   "metadata": {
    "pycharm": {
     "name": "#%%\n"
    },
    "id": "d3c887f0"
   },
   "outputs": [],
   "source": [
    "def is_even(num):\n",
    "    if num % 2 == 0:\n",
    "        return True\n",
    "    else:\n",
    "        return False\n",
    "\n",
    "def check_even_odd(n):\n",
    "    if is_even(n):\n",
    "        print(\"The number\", n, \"is even.\")\n",
    "    else:\n",
    "        print(\"The number\", n, \"is odd.\")\n"
   ]
  },
  {
   "cell_type": "code",
   "source": [
    "# How we apply the function \n",
    "check_even_odd(2)  \n",
    "check_even_odd(3)   \n",
    "check_even_odd(0)   \n"
   ],
   "metadata": {
    "colab": {
     "base_uri": "https://localhost:8080/"
    },
    "id": "TFrkXSLX5HC5",
    "outputId": "81401c57-883a-47a3-bd97-2d102c70744c"
   },
   "id": "TFrkXSLX5HC5",
   "execution_count": 33,
   "outputs": [
    {
     "output_type": "stream",
     "name": "stdout",
     "text": [
      "The number 2 is even.\n",
      "The number 3 is odd.\n",
      "The number 0 is even.\n"
     ]
    }
   ]
  },
  {
   "cell_type": "markdown",
   "source": [
    "(ii) Write a function which takes two numbers 'm' and 'n, and returns the output:\n",
    "- if m is a multiple of n, then output is m^3 (m * m * m)\n",
    "- if m is not a multiple of n, then the output is (mn)^2 [10 Marks]"
   ],
   "metadata": {
    "id": "vU6lTHNq5XU9"
   },
   "id": "vU6lTHNq5XU9"
  },
  {
   "cell_type": "code",
   "execution_count": 34,
   "id": "5f8379a4",
   "metadata": {
    "pycharm": {
     "name": "#%%\n"
    },
    "id": "5f8379a4"
   },
   "outputs": [],
   "source": [
    "def calculate_output(m, n):\n",
    "    if m % n == 0:\n",
    "        result = m ** 3\n",
    "        print(f\"The result of the calculation is: {result}\")\n",
    "    else:\n",
    "        result = (m * n) ** 2\n",
    "        print(f\"The result of the calculation is: {result}\")\n",
    "    return result\n"
   ]
  },
  {
   "cell_type": "code",
   "source": [
    "#  How we apply the function \n",
    "print(calculate_output(6, 2))   \n",
    "print(calculate_output(4, 3))"
   ],
   "metadata": {
    "colab": {
     "base_uri": "https://localhost:8080/"
    },
    "id": "kFM8dbO15O8U",
    "outputId": "21ab6d83-9c99-44e5-da41-2c5616ad6774"
   },
   "id": "kFM8dbO15O8U",
   "execution_count": 35,
   "outputs": [
    {
     "output_type": "stream",
     "name": "stdout",
     "text": [
      "The result of the calculation is: 216\n",
      "216\n",
      "The result of the calculation is: 144\n",
      "144\n"
     ]
    }
   ]
  },
  {
   "cell_type": "markdown",
   "id": "d2051af0",
   "metadata": {
    "pycharm": {
     "name": "#%% md\n"
    },
    "id": "d2051af0"
   },
   "source": [
    "## Assignment 4 "
   ]
  },
  {
   "cell_type": "markdown",
   "id": "fe61729e",
   "metadata": {
    "pycharm": {
     "name": "#%% md\n"
    },
    "id": "fe61729e"
   },
   "source": [
    "Write a Python class  (class 'Calculator') which implements basic arithmetic of two numbers 'a' and 'b'. The 'Calculator' class should have the following methods: <br>\n",
    "    - Sum(a,b): returns a + b <br>\n",
    "    - Difference(a,b): returns a - b <br>\n",
    "    - Product(a,b): returns a * b <br>\n",
    "    - Division(a,b): returns a/b                                                                     [15 Marks] <br>\n",
    "Total Marks:                                                                                         [15 Marks]   "
   ]
  },
  {
   "cell_type": "code",
   "execution_count": 29,
   "id": "77615688",
   "metadata": {
    "pycharm": {
     "name": "#%%\n"
    },
    "id": "77615688"
   },
   "outputs": [],
   "source": [
    "class Calculator:\n",
    "    def Sum(self, a, b):\n",
    "        return a + b\n",
    "\n",
    "    def Difference(self, a, b):\n",
    "        return a - b\n",
    "\n",
    "    def Product(self, a, b):\n",
    "        return a * b\n",
    "\n",
    "    def Division(self, a, b):\n",
    "        if b == 0:\n",
    "            raise ValueError(\"Cannot divide by zero\")\n",
    "        else:\n",
    "            return a / b\n",
    "\n"
   ]
  },
  {
   "cell_type": "code",
   "source": [
    "# How to use the calculator\n",
    "calc = Calculator()\n",
    "print(\"The result of the calculation by Sum is:\", calc.Sum(10, 33))        \n",
    "print(\"The result of the calculation by Difference is:\", calc.Difference(5, 3))\n",
    "print(\"The result of the calculation by Product is:\", calc.Product(7, 8))\n",
    "print(\"The result of the calculation by Division is:\", calc.Division(8, 3))\n"
   ],
   "metadata": {
    "colab": {
     "base_uri": "https://localhost:8080/"
    },
    "id": "jEqKcckR5wZJ",
    "outputId": "012036a4-7e9c-4fe7-eab8-e004ef147fdf"
   },
   "id": "jEqKcckR5wZJ",
   "execution_count": 30,
   "outputs": [
    {
     "output_type": "stream",
     "name": "stdout",
     "text": [
      "The result of the calculation by Sum is: 43\n",
      "The result of the calculation by Difference is: 2\n",
      "The result of the calculation by Product is: 56\n",
      "The result of the calculation by Division is: 2.6666666666666665\n"
     ]
    }
   ]
  },
  {
   "cell_type": "code",
   "source": [],
   "metadata": {
    "id": "smCXi9iw80Zh"
   },
   "id": "smCXi9iw80Zh",
   "execution_count": null,
   "outputs": []
  },
  {
   "cell_type": "code",
   "source": [
    "# How to get an error where you  are dividing by zero \n",
    "\n",
    "print(\"The result of the calculation by Division is:\", calc.Division(8, 0))"
   ],
   "metadata": {
    "colab": {
     "base_uri": "https://localhost:8080/",
     "height": 321
    },
    "outputId": "82012410-6cc1-4fa9-8577-68218251a263",
    "id": "X39y5yRX81p3"
   },
   "execution_count": 31,
   "outputs": [
    {
     "output_type": "error",
     "ename": "ValueError",
     "evalue": "ignored",
     "traceback": [
      "\u001B[0;31m---------------------------------------------------------------------------\u001B[0m",
      "\u001B[0;31mValueError\u001B[0m                                Traceback (most recent call last)",
      "\u001B[0;32m<ipython-input-31-e525319572ac>\u001B[0m in \u001B[0;36m<cell line: 3>\u001B[0;34m()\u001B[0m\n\u001B[1;32m      1\u001B[0m \u001B[0;31m# How to get an error where you  are dividing by zero\u001B[0m\u001B[0;34m\u001B[0m\u001B[0;34m\u001B[0m\u001B[0m\n\u001B[1;32m      2\u001B[0m \u001B[0;34m\u001B[0m\u001B[0m\n\u001B[0;32m----> 3\u001B[0;31m \u001B[0mprint\u001B[0m\u001B[0;34m(\u001B[0m\u001B[0;34m\"The result of the calculation by Division is:\"\u001B[0m\u001B[0;34m,\u001B[0m \u001B[0mcalc\u001B[0m\u001B[0;34m.\u001B[0m\u001B[0mDivision\u001B[0m\u001B[0;34m(\u001B[0m\u001B[0;36m8\u001B[0m\u001B[0;34m,\u001B[0m \u001B[0;36m0\u001B[0m\u001B[0;34m)\u001B[0m\u001B[0;34m)\u001B[0m\u001B[0;34m\u001B[0m\u001B[0;34m\u001B[0m\u001B[0m\n\u001B[0m",
      "\u001B[0;32m<ipython-input-29-3450ccfa32d6>\u001B[0m in \u001B[0;36mDivision\u001B[0;34m(self, a, b)\u001B[0m\n\u001B[1;32m     11\u001B[0m     \u001B[0;32mdef\u001B[0m \u001B[0mDivision\u001B[0m\u001B[0;34m(\u001B[0m\u001B[0mself\u001B[0m\u001B[0;34m,\u001B[0m \u001B[0ma\u001B[0m\u001B[0;34m,\u001B[0m \u001B[0mb\u001B[0m\u001B[0;34m)\u001B[0m\u001B[0;34m:\u001B[0m\u001B[0;34m\u001B[0m\u001B[0;34m\u001B[0m\u001B[0m\n\u001B[1;32m     12\u001B[0m         \u001B[0;32mif\u001B[0m \u001B[0mb\u001B[0m \u001B[0;34m==\u001B[0m \u001B[0;36m0\u001B[0m\u001B[0;34m:\u001B[0m\u001B[0;34m\u001B[0m\u001B[0;34m\u001B[0m\u001B[0m\n\u001B[0;32m---> 13\u001B[0;31m             \u001B[0;32mraise\u001B[0m \u001B[0mValueError\u001B[0m\u001B[0;34m(\u001B[0m\u001B[0;34m\"Cannot divide by zero\"\u001B[0m\u001B[0;34m)\u001B[0m\u001B[0;34m\u001B[0m\u001B[0;34m\u001B[0m\u001B[0m\n\u001B[0m\u001B[1;32m     14\u001B[0m         \u001B[0;32melse\u001B[0m\u001B[0;34m:\u001B[0m\u001B[0;34m\u001B[0m\u001B[0;34m\u001B[0m\u001B[0m\n\u001B[1;32m     15\u001B[0m             \u001B[0;32mreturn\u001B[0m \u001B[0ma\u001B[0m \u001B[0;34m/\u001B[0m \u001B[0mb\u001B[0m\u001B[0;34m\u001B[0m\u001B[0;34m\u001B[0m\u001B[0m\n",
      "\u001B[0;31mValueError\u001B[0m: Cannot divide by zero"
     ]
    }
   ],
   "id": "X39y5yRX81p3"
  },
  {
   "cell_type": "code",
   "source": [],
   "metadata": {
    "id": "yF45ALa88smw"
   },
   "id": "yF45ALa88smw",
   "execution_count": null,
   "outputs": []
  }
 ],
 "metadata": {
  "kernelspec": {
   "display_name": "Python 3 (ipykernel)",
   "language": "python",
   "name": "python3"
  },
  "language_info": {
   "codemirror_mode": {
    "name": "ipython",
    "version": 3
   },
   "file_extension": ".py",
   "mimetype": "text/x-python",
   "name": "python",
   "nbconvert_exporter": "python",
   "pygments_lexer": "ipython3",
   "version": "3.9.7"
  },
  "colab": {
   "provenance": []
  }
 },
 "nbformat": 4,
 "nbformat_minor": 5
}
